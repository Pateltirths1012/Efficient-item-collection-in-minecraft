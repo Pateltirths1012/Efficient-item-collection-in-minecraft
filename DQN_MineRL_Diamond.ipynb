{
 "cells": [
  {
   "cell_type": "markdown",
   "metadata": {},
   "source": [
    "# DQN Agent for MineRLObtainDiamondShovel-v0 with Wood collection Task\n"
   ]
  },
  {
   "cell_type": "code",
   "execution_count": 1,
   "metadata": {},
   "outputs": [],
   "source": [
    "import os\n",
    "import gym\n",
    "import minerl\n",
    "import numpy as np\n",
    "import matplotlib.pyplot as plt\n",
    "import torch\n",
    "import torch.nn as nn\n",
    "import torch.optim as optim\n",
    "import torch.nn.functional as F\n",
    "from collections import deque, namedtuple\n",
    "from stable_baselines3.common.vec_env import SubprocVecEnv\n",
    "import random\n",
    "import time\n",
    "from tqdm import tqdm\n",
    "import gc"
   ]
  },
  {
   "cell_type": "markdown",
   "metadata": {},
   "source": [
    "### Replay Memory"
   ]
  },
  {
   "cell_type": "code",
   "execution_count": 2,
   "metadata": {},
   "outputs": [],
   "source": [
    "# set seeds for reproducability\n",
    "torch.manual_seed(42)\n",
    "np.random.seed(42)\n",
    "random.seed(42)\n",
    "\n",
    "# Environment Setup\n",
    "os.environ['DISPLAY'] = ':0'\n",
    "os.environ['MALMO_MINECRAFT_OUTPUT_LOG'] = 'true'\n",
    "os.environ['MALMO_MINECRAFT_INITIAL_MEMORY'] = '8G'\n",
    "os.environ['MALMO_MINECRAFT_MAX_MEMORY'] = '12G'\n",
    "os.environ['MINERL_HEADLESS'] = '1'         # Training my model with GPU compute acceleration but CPU-based rendering\n",
    "os.environ['MINERL_DISABLE_HUB'] = '1'\n",
    "os.environ['MALMO_MINECRAFT_JVM_ARGS'] = '-XX:+UseG1GC -XX:MaxGCPauseMillis=50'\n",
    "\n",
    "\n",
    "# Experience replay memory\n",
    "Transition = namedtuple('Transition', ('state', 'action', 'next_state', 'reward', 'done'))\n",
    "\n",
    "class ReplayMemory:\n",
    "    def __init__(self, capacity):\n",
    "        self.memory = deque(maxlen=capacity)\n",
    "    \n",
    "    def push(self, *args):\n",
    "        self.memory.append(Transition(*args))\n",
    "    \n",
    "    def sample(self, batch_size):\n",
    "        return random.sample(self.memory, batch_size)\n",
    "    \n",
    "    def __len__(self):\n",
    "        return len(self.memory)\n",
    "    "
   ]
  },
  {
   "cell_type": "markdown",
   "metadata": {},
   "source": [
    "### Custom Wrapper for environment"
   ]
  },
  {
   "cell_type": "code",
   "execution_count": 3,
   "metadata": {},
   "outputs": [],
   "source": [
    "class LogOnlyWrapper(gym.Wrapper):\n",
    "    def __init__(self, env, action_repeat = 4):\n",
    "        super().__init__(env)\n",
    "        self.logs_collected = 0\n",
    "        self.action_repeat = action_repeat\n",
    "    \n",
    "    def reset(self):\n",
    "        self.logs_collected = 0\n",
    "        return super().reset()\n",
    "    \n",
    "    def step(self, action):\n",
    "        # Repeat the action for multiple frames to speed up training\n",
    "        total_reward = 0\n",
    "        done = False\n",
    "        info = None\n",
    "        \n",
    "        for _ in range(self.action_repeat):\n",
    "            obs, reward, done, info = super().step(action)\n",
    "            total_reward += reward\n",
    "            \n",
    "            # Check if logs were collected in this step\n",
    "            logs_current = self._get_log_count(obs)\n",
    "            logs_collected_step = max(0, logs_current - self.logs_collected)\n",
    "            self.logs_collected = logs_current\n",
    "            \n",
    "            # If logs were collected, give reward and terminate\n",
    "            if logs_collected_step > 0:\n",
    "                total_reward = 1.0  # Fixed reward for collecting logs\n",
    "                done = True\n",
    "                break\n",
    "                \n",
    "            # Break early if done\n",
    "            if done:\n",
    "                break\n",
    "        \n",
    "        return obs, total_reward, done, info\n",
    "    \n",
    "    def _get_log_count(self, obs):\n",
    "        # In MineRL, inventory is typically accessed through obs['inventory']\n",
    "        if 'inventory' in obs:\n",
    "            return obs['inventory'].get('log', 0)\n",
    "        return 0\n"
   ]
  },
  {
   "cell_type": "markdown",
   "metadata": {},
   "source": [
    "### Window Resize"
   ]
  },
  {
   "cell_type": "code",
   "execution_count": 4,
   "metadata": {},
   "outputs": [],
   "source": [
    "class ResizeObservationWrapper(gym.ObservationWrapper):\n",
    "    def __init__(self, env, size=(64, 64)):\n",
    "        super().__init__(env)\n",
    "        self.size = size\n",
    "        \n",
    "        import cv2\n",
    "        self.cv2 = cv2\n",
    "        \n",
    "    def observation(self, observation):\n",
    "        if isinstance(observation, dict) and 'pov' in observation:\n",
    "            \n",
    "            original_pov = observation['pov']\n",
    "            resized_pov = self.cv2.resize(\n",
    "                original_pov, \n",
    "                (self.size[1], self.size[0]),  # OpenCV expects (width, height)\n",
    "                interpolation=self.cv2.INTER_AREA\n",
    "            )\n",
    "            observation['pov'] = resized_pov\n",
    "        \n",
    "        return observation"
   ]
  },
  {
   "cell_type": "markdown",
   "metadata": {},
   "source": [
    "### Defining CNN model for processing image observations"
   ]
  },
  {
   "cell_type": "code",
   "execution_count": 5,
   "metadata": {},
   "outputs": [],
   "source": [
    "class DQN(nn.Module):\n",
    "    def __init__(self, input_shape, n_actions):\n",
    "        super(DQN, self).__init__()\n",
    "        self.conv = nn.Sequential(\n",
    "            nn.Conv2d(input_shape[0], 32, kernel_size=8, stride=4),\n",
    "            nn.ReLU(),\n",
    "            nn.Conv2d(32, 64, kernel_size=4, stride=2),\n",
    "            nn.ReLU(),\n",
    "            nn.Conv2d(64, 64, kernel_size=3, stride=1),\n",
    "            nn.ReLU()\n",
    "        )\n",
    "        \n",
    "        # Calculate the size of the output from conv layers\n",
    "        conv_out_size = self._get_conv_output(input_shape)\n",
    "        \n",
    "        self.fc = nn.Sequential(\n",
    "            nn.Linear(conv_out_size, 512),\n",
    "            nn.ReLU(),\n",
    "            nn.Linear(512, n_actions)\n",
    "        )\n",
    "    \n",
    "    def _get_conv_output(self, shape):\n",
    "        batch_size = 1\n",
    "        input = torch.zeros(batch_size, *shape)\n",
    "        output = self.conv(input)\n",
    "        return int(np.prod(output.size()))\n",
    "    \n",
    "    def forward(self, x):\n",
    "        conv_out = self.conv(x).view(x.size()[0], -1)\n",
    "        return self.fc(conv_out)"
   ]
  },
  {
   "cell_type": "markdown",
   "metadata": {},
   "source": [
    "### Preprocessing function for observations"
   ]
  },
  {
   "cell_type": "code",
   "execution_count": 6,
   "metadata": {},
   "outputs": [],
   "source": [
    "def preprocess_observation(observation):\n",
    "    # Extract the POV (camera view) from the observation\n",
    "    if isinstance(observation, dict) and 'pov' in observation:\n",
    "        pov = observation['pov']\n",
    "        # Normalize and transpose for PyTorch (C, H, W)\n",
    "        pov = np.transpose(pov, (2, 0, 1))\n",
    "        pov = pov.astype(np.float32) / 255.0\n",
    "        return pov\n",
    "    else:\n",
    "        raise ValueError(\"Expected observation to contain 'pov' key\")"
   ]
  },
  {
   "cell_type": "markdown",
   "metadata": {},
   "source": [
    "### Action selection with epsilon-greedy strategy"
   ]
  },
  {
   "cell_type": "code",
   "execution_count": 7,
   "metadata": {},
   "outputs": [],
   "source": [
    "# Always Attack Wrapper for simplified action space\n",
    "class AlwaysAttackWrapper(gym.ActionWrapper):\n",
    "    def __init__(self, env, angle=10):\n",
    "        super().__init__(env)\n",
    "        # Define action dictionary with attack=True for all actions (basically attack on steroids)\n",
    "        self.action_dict = {\n",
    "            0: {'attack': 1, 'back': 0, 'camera': [0, 0], 'forward': 1, 'jump': 0, 'left': 0, 'right': 0,\n",
    "                'sneak': 0, 'sprint': 0},  # Forward + attack\n",
    "            1: {'attack': 1, 'back': 0, 'camera': [0, angle], 'forward': 0, 'jump': 0, 'left': 0,\n",
    "                'right': 0, 'sneak': 0, 'sprint': 0},  # Look down + attack\n",
    "            2: {'attack': 1, 'back': 0, 'camera': [0, -angle], 'forward': 0, 'jump': 0, 'left': 0,\n",
    "                'right': 0, 'sneak': 0, 'sprint': 0},  # Look up + attack\n",
    "            3: {'attack': 1, 'back': 0, 'camera': [angle, 0], 'forward': 0, 'jump': 0, 'left': 0,\n",
    "                'right': 0, 'sneak': 0, 'sprint': 0},  # Look right + attack\n",
    "            4: {'attack': 1, 'back': 0, 'camera': [-angle, 0], 'forward': 0, 'jump': 0, 'left': 0,\n",
    "                'right': 0, 'sneak': 0, 'sprint': 0},  # Look left + attack\n",
    "            5: {'attack': 1, 'back': 0, 'camera': [0, 0], 'forward': 1, 'jump': 1, 'left': 0, 'right': 0,\n",
    "                'sneak': 0, 'sprint': 0},  # Jump forward + attack\n",
    "            6: {'attack': 1, 'back': 0, 'camera': [0, 0], 'forward': 1, 'jump': 0, 'left': 0, 'right': 0,\n",
    "                'sneak': 0, 'sprint': 0},  # Just forward (no attack)\n",
    "            7: {'attack': 1, 'back': 0, 'camera': [0, 0], 'forward': 0, 'jump': 0, 'left': 0, 'right': 0,\n",
    "                'sneak': 0, 'sprint': 0},  # No-op\n",
    "        }\n",
    "        # Create a discrete action space\n",
    "        self.action_space = gym.spaces.Discrete(len(self.action_dict))\n",
    "    \n",
    "    def action(self, action_idx):\n",
    "        # Convert the discrete action to the actual environment action\n",
    "        return self.action_dict[action_idx]\n"
   ]
  },
  {
   "cell_type": "code",
   "execution_count": 8,
   "metadata": {},
   "outputs": [],
   "source": [
    "# Action selection with epsilon-greedy strategy for simplified action space\n",
    "def select_action(state, policy_net, action_space, epsilon, device):\n",
    "    if random.random() < epsilon:\n",
    "        return random.randint(0, 4)  # Simplified to 5 actions\n",
    "    else:\n",
    "        with torch.no_grad():\n",
    "            state_tensor = torch.FloatTensor(state).unsqueeze(0).to(device)\n",
    "            q_values = policy_net(state_tensor)\n",
    "            return q_values.max(1)[1].item()"
   ]
  },
  {
   "cell_type": "markdown",
   "metadata": {},
   "source": [
    "### Training Function"
   ]
  },
  {
   "cell_type": "code",
   "execution_count": 9,
   "metadata": {},
   "outputs": [],
   "source": [
    "def optimize_model(policy_net, target_net, optimizer, memory, batch_size, gamma, device):\n",
    "    if len(memory) < batch_size:\n",
    "        return 0.0  # Not enough samples yet\n",
    "    \n",
    "    transitions = memory.sample(batch_size)\n",
    "    batch = Transition(*zip(*transitions))\n",
    "    \n",
    "    # Create a mask of non-final states\n",
    "    non_final_mask = torch.tensor(\n",
    "        tuple(map(lambda s: s is not None, batch.next_state)), \n",
    "        device=device, dtype=torch.bool)\n",
    "    \n",
    "    non_final_next_states = torch.tensor([s for s in batch.next_state if s is not None], \n",
    "                                         device=device, dtype=torch.float32)\n",
    "    \n",
    "    state_batch = torch.tensor(batch.state, device=device, dtype=torch.float32)\n",
    "    action_batch = torch.tensor(batch.action, device=device, dtype=torch.long)\n",
    "    reward_batch = torch.tensor(batch.reward, device=device, dtype=torch.float32)\n",
    "    \n",
    "    # Compute Q(s_t, a) - the model computes Q(s_t), then we select the columns of actions taken\n",
    "    state_action_values = policy_net(state_batch).gather(1, action_batch.unsqueeze(1))\n",
    "    \n",
    "    # Compute V(s_{t+1}) for all next states\n",
    "    next_state_values = torch.zeros(batch_size, device=device)\n",
    "    next_state_values[non_final_mask] = target_net(non_final_next_states).max(1)[0].detach()\n",
    "    \n",
    "    # Compute the expected Q values\n",
    "    expected_state_action_values = reward_batch + (gamma * next_state_values)\n",
    "    \n",
    "    # Compute loss\n",
    "    loss = F.smooth_l1_loss(state_action_values, expected_state_action_values.unsqueeze(1))\n",
    "    \n",
    "    # Optimize the model\n",
    "    optimizer.zero_grad()\n",
    "    loss.backward()\n",
    "    # Clip gradients to avoid exploding gradients\n",
    "    for param in policy_net.parameters():\n",
    "        param.grad.data.clamp_(-1, 1)\n",
    "    optimizer.step()\n",
    "    \n",
    "    return loss.item()"
   ]
  },
  {
   "cell_type": "markdown",
   "metadata": {},
   "source": [
    "Official"
   ]
  },
  {
   "cell_type": "code",
   "execution_count": 32,
   "metadata": {},
   "outputs": [],
   "source": [
    "def train_dqn_demo(env_name, total_timesteps, batch_size, gamma,\n",
    "              eps_start, eps_end, eps_decay,\n",
    "              target_update_freq, learning_rate, memory_size,\n",
    "              eval_freq, log_freq, start_timestep, policy_net, target_net):\n",
    "    \n",
    "    # Setup device\n",
    "    device = torch.device(\"cuda\" if torch.cuda.is_available() else \"cpu\")\n",
    "    print(f\"Using device: {device}\")\n",
    "    \n",
    "    # Create a regular environment first to get observation/action shapes\n",
    "    env = gym.make(env_name)\n",
    "    env = ResizeObservationWrapper(env, size=(64, 64))\n",
    "    env = LogOnlyWrapper(env)\n",
    "    env = AlwaysAttackWrapper(env, angle=10)\n",
    "    observation = env.reset()\n",
    "    pov = preprocess_observation(observation)\n",
    "    input_shape = pov.shape\n",
    "    n_actions =  env.action_space.n # Number of discrete actions we've defined\n",
    "    \n",
    "    print(f\"Observation shape: {input_shape}, Action space size: {n_actions}\")\n",
    "    \n",
    "    # Initialize networks\n",
    "    if policy_net is None:\n",
    "        policy_net = DQN(input_shape, n_actions).to(device)\n",
    "    if target_net is None:\n",
    "        target_net = DQN(input_shape, n_actions).to(device)\n",
    "        target_net.load_state_dict(policy_net.state_dict())\n",
    "    target_net.eval()\n",
    "    \n",
    "    # Setup optimizer\n",
    "    optimizer = optim.Adam(policy_net.parameters(), lr=learning_rate)\n",
    "    \n",
    "    # Setup replay memory\n",
    "    memory = ReplayMemory(memory_size)\n",
    "    \n",
    "    # Training metrics\n",
    "    episode_durations = []\n",
    "    episode_rewards = []\n",
    "    episode_losses = []\n",
    "    episode_count = 0\n",
    "    \n",
    "    # Metrics for current episode\n",
    "    current_episode_reward = 0\n",
    "    current_episode_loss = 0\n",
    "    current_episode_steps = 0\n",
    "    \n",
    "    # Adjust epsilon based on starting timestep\n",
    "    if start_timestep > 0:\n",
    "        epsilon = eps_end + (eps_start - eps_end) * np.exp(-start_timestep / (total_timesteps * 0.5))\n",
    "    else:\n",
    "        epsilon = eps_start \n",
    "    \n",
    "    # Start training\n",
    "    print(\"Starting training...\")\n",
    "    start_time = time.time()\n",
    "    \n",
    "    \n",
    "    \n",
    "    state = pov  # Use the preprocessed observation from earlier\n",
    "    \n",
    "    # Progress bar for timesteps\n",
    "    progress_bar = tqdm(total=total_timesteps, initial=start_timestep)\n",
    "    \n",
    "    # Training loop\n",
    "    timestep = 0\n",
    "    done = False\n",
    "    \n",
    "    os.makedirs(\"checkpoint_minerl\", exist_ok=True)\n",
    "\n",
    "    timestep = start_timestep\n",
    "    \n",
    "    while timestep < total_timesteps:\n",
    "        # Select action\n",
    "        action_idx = select_action(state, policy_net, env.action_space, epsilon, device)\n",
    "        \n",
    "        \n",
    "        # Take step in environment\n",
    "        observation, reward, done, _ = env.step(action_idx)\n",
    "        \n",
    "        # Process reward\n",
    "        current_episode_reward += reward\n",
    "        \n",
    "        # Process next state (or set to None if episode is done)\n",
    "        next_state = None if done else preprocess_observation(observation)\n",
    "        \n",
    "        # Store transition in replay memory\n",
    "        memory.push(state, action_idx, next_state, reward, done)\n",
    "        \n",
    "        # Move to the next state\n",
    "        state = next_state\n",
    "        \n",
    "        # Optimize model\n",
    "        loss = optimize_model(policy_net, target_net, optimizer, memory, batch_size, gamma, device)\n",
    "        if loss:\n",
    "            current_episode_loss += loss\n",
    "        \n",
    "        # Update timestep and episode step count\n",
    "        timestep += 1\n",
    "        current_episode_steps += 1\n",
    "        progress_bar.update(1)\n",
    "        \n",
    "        # Update target network based on timesteps\n",
    "        if timestep % target_update_freq == 0:\n",
    "            target_net.load_state_dict(policy_net.state_dict())\n",
    "            print(\"Target network updated!\")\n",
    "        \n",
    "        # Decay epsilon based on timesteps\n",
    "        epsilon = eps_end + (eps_start - eps_end) * np.exp(-timestep / (total_timesteps * 0.5))\n",
    "        \n",
    "        # Log progress periodically\n",
    "        if timestep % log_freq == 0:\n",
    "            avg_reward = np.mean(episode_rewards[-10:]) if episode_rewards else 0\n",
    "            avg_duration = np.mean(episode_durations[-10:]) if episode_durations else 0\n",
    "            avg_loss = np.mean(episode_losses[-10:]) if episode_losses else 0\n",
    "            \n",
    "            current_time = time.time()\n",
    "            elapsed = current_time - start_time\n",
    "            \n",
    "            print(f\"\\nTimestep: {timestep}/{total_timesteps} ({(timestep/total_timesteps)*100:.1f}%) | \"\n",
    "                  f\"Episodes: {episode_count} | \"\n",
    "                  f\"Epsilon: {epsilon:.4f} | \"\n",
    "                  f\"Avg Reward: {avg_reward:.4f} | \"\n",
    "                  f\"Avg Duration: {avg_duration:.1f} steps | \"\n",
    "                  f\"Avg Loss: {avg_loss:.6f} | \"\n",
    "                  f\"Elapsed: {elapsed:.1f}s\")\n",
    "        \n",
    "        # Evaluate model periodically\n",
    "        if timestep % eval_freq == 0 and timestep > 0:\n",
    "            print(\"\\nEvaluating model...\")\n",
    "            \n",
    "            # Save checkpoint\n",
    "            checkpoint_path = f\"checkpoint_mineRL/dqn_minerl_checkpoint_{timestep}.pt\"\n",
    "            torch.save(policy_net.state_dict(), checkpoint_path)\n",
    "            print(f\"Checkpoint saved to {checkpoint_path}\")\n",
    "        \n",
    "        # Check if episode is done or if we've reached the max episode length\n",
    "        if done or current_episode_steps >= 1000:  # Limit episode length\n",
    "            # Record episode metrics\n",
    "            episode_count += 1\n",
    "            episode_durations.append(current_episode_steps)\n",
    "            episode_rewards.append(current_episode_reward)\n",
    "            \n",
    "            # Calculate average loss for the episode\n",
    "            if current_episode_steps > 0:\n",
    "                episode_losses.append(current_episode_loss / current_episode_steps)\n",
    "            else:\n",
    "                episode_losses.append(0)\n",
    "            \n",
    "            # Reset environment for next episode\n",
    "            observation = env.reset()\n",
    "            state = preprocess_observation(observation)\n",
    "            \n",
    "            # Reset episode metrics\n",
    "            current_episode_reward = 0\n",
    "            current_episode_loss = 0\n",
    "            current_episode_steps = 0\n",
    "            done = False\n",
    "            \n",
    "            if episode_count % 2 == 0:\n",
    "                try:\n",
    "                    env.close()\n",
    "                    # Small delay to ensure process termination\n",
    "                    time.sleep(2)\n",
    "                    # Kill any lingering processes\n",
    "                    os.system(\"pkill -f Minecraft\")\n",
    "                    # Recreate environment\n",
    "                    env = gym.make(env_name)\n",
    "                    env = ResizeObservationWrapper(env, size=(64, 64))\n",
    "                    env = LogOnlyWrapper(env)\n",
    "                    env = AlwaysAttackWrapper(env, angle=10)\n",
    "                except Exception as e:\n",
    "                    print(f\"Error during environment reset: {e}\")\n",
    "            \n",
    "            observation = env.reset()\n",
    "        \n",
    "        if timestep % 500 == 0:\n",
    "            gc.collect()\n",
    "        \n",
    "    # Training complete\n",
    "    progress_bar.close()\n",
    "    env.close()\n",
    "    end_time = time.time()\n",
    "    print(f\"\\nTraining complete! Time elapsed: {end_time - start_time:.2f} seconds\")\n",
    "    print(f\"Total episodes completed: {episode_count}\")\n",
    "    \n",
    "    # Save the final model\n",
    "    model_path = \"checkpoint_mineRL/dqn_minerl_log_finder.pt\"\n",
    "    torch.save(policy_net.state_dict(), model_path)\n",
    "    print(f\"Final model saved to {model_path}\")\n",
    "    \n",
    "    # Return training metrics and the trained model\n",
    "    return {\n",
    "        'policy_net': policy_net,\n",
    "        'target_net': target_net,\n",
    "        'episode_durations': episode_durations,\n",
    "        'episode_rewards': episode_rewards,\n",
    "        'episode_losses': episode_losses,\n",
    "        'total_episodes': episode_count,\n",
    "        'total_timesteps': timestep\n",
    "    }"
   ]
  },
  {
   "cell_type": "markdown",
   "metadata": {},
   "source": [
    "### Evaluation Routine"
   ]
  },
  {
   "cell_type": "code",
   "execution_count": 43,
   "metadata": {},
   "outputs": [],
   "source": [
    "# Function to evaluate the trained model\n",
    "def evaluate_model(model, env_name, num_episodes=10, render=False, angle=10):\n",
    "    # Create environment\n",
    "    env = gym.make(env_name)\n",
    "    env = ResizeObservationWrapper(env, size=(64, 64))\n",
    "    env = LogOnlyWrapper(env)\n",
    "    env = AlwaysAttackWrapper(env, angle=angle)\n",
    "    \n",
    "    device = torch.device(\"cuda\" if torch.cuda.is_available() else \"cpu\")\n",
    "    \n",
    "    # Metrics\n",
    "    episode_rewards = []\n",
    "    episode_durations = []\n",
    "    success_rate = 0\n",
    "    \n",
    "    for episode in range(num_episodes):\n",
    "        observation = env.reset()\n",
    "        state = preprocess_observation(observation)\n",
    "        \n",
    "        total_reward = 0\n",
    "        step_count = 0\n",
    "        done = False\n",
    "        \n",
    "        while not done:\n",
    "            if render:\n",
    "                env.render()\n",
    "                time.sleep(0.05)  # Slow down rendering\n",
    "            \n",
    "            # Select action (no exploration during evaluation)\n",
    "            with torch.no_grad():\n",
    "                state_tensor = torch.FloatTensor(state).unsqueeze(0).to(device)\n",
    "                q_values = model(state_tensor)\n",
    "                action_idx = q_values.max(1)[1].item()\n",
    "            \n",
    "            # Take action\n",
    "            observation, reward, done, _ = env.step(action_idx)\n",
    "            \n",
    "            # Update metrics\n",
    "            total_reward += reward\n",
    "            step_count += 1\n",
    "            \n",
    "            # Move to next state\n",
    "            if not done:\n",
    "                state = preprocess_observation(observation)\n",
    "            \n",
    "            # Limit episode length\n",
    "            if step_count >= 1000: \n",
    "                break\n",
    "        \n",
    "        # Record metrics\n",
    "        episode_rewards.append(total_reward)\n",
    "        episode_durations.append(step_count)\n",
    "        \n",
    "        # Record success (whether a log was found)\n",
    "        if total_reward > 0:\n",
    "            success_rate += 1\n",
    "        \n",
    "        print(f\"Evaluation Episode {episode+1}/{num_episodes} | Reward: {total_reward:.2f} | Steps: {step_count}\")\n",
    "    \n",
    "    # Calculate final metrics\n",
    "    avg_reward = np.mean(episode_rewards)\n",
    "    avg_duration = np.mean(episode_durations)\n",
    "    success_percentage = (success_rate / num_episodes) * 100\n",
    "    \n",
    "    print(f\"\\nEvaluation Results:\")\n",
    "    print(f\"Average Reward: {avg_reward:.2f}\")\n",
    "    print(f\"Average Episode Duration: {avg_duration:.2f} steps\")\n",
    "    print(f\"Success Rate: {success_percentage:.2f}%\")\n",
    "    \n",
    "    return {\n",
    "        'avg_reward': avg_reward,\n",
    "        'avg_duration': avg_duration,\n",
    "        'success_rate': success_percentage,\n",
    "        'episode_rewards': episode_rewards,\n",
    "        'episode_durations': episode_durations\n",
    "    }\n"
   ]
  },
  {
   "cell_type": "markdown",
   "metadata": {},
   "source": [
    "### Plotting Routine"
   ]
  },
  {
   "cell_type": "code",
   "execution_count": 22,
   "metadata": {},
   "outputs": [],
   "source": [
    "def moving_average(data, *, window_size = 50):\n",
    "    \"\"\"Smooths 1-D data array using a moving average.\n",
    "\n",
    "    Args:\n",
    "        data: 1-D numpy.array\n",
    "        window_size: Size of the smoothing window\n",
    "\n",
    "    Returns:\n",
    "        smooth_data: A 1-d numpy.array with the same size as data\n",
    "    \"\"\"\n",
    "    data = np.array(data)\n",
    "    assert data.ndim == 1\n",
    "    kernel = np.ones(window_size)\n",
    "    smooth_data = np.convolve(data, kernel) / np.convolve(\n",
    "        np.ones_like(data), kernel\n",
    "    )\n",
    "    return smooth_data[: -window_size + 1]"
   ]
  },
  {
   "cell_type": "code",
   "execution_count": 40,
   "metadata": {},
   "outputs": [],
   "source": [
    "def plot_training_metrics(metrics):\n",
    "    plt.figure(figsize=(15, 12))\n",
    "    \n",
    "    # Plot reward\n",
    "    plt.subplot(3, 1, 1)\n",
    "    plt.plot(metrics['episode_rewards'], label = 'episode_rewards')\n",
    "    plt.plot(moving_average(metrics['episode_rewards']), label = 'moving_average')\n",
    "    plt.title('Episode Reward')\n",
    "    plt.xlabel('Episode')\n",
    "    plt.ylabel('Reward')\n",
    "    plt.grid()\n",
    "    plt.legend()\n",
    "    \n",
    "    # Plot episode duration\n",
    "    plt.subplot(3, 1, 2)\n",
    "    plt.plot(metrics['episode_durations'], label = 'episode_durations')\n",
    "    plt.plot(moving_average(metrics['episode_durations']), label = 'moving_average')\n",
    "    plt.title('Episode Duration')\n",
    "    plt.xlabel('Episode')\n",
    "    plt.ylabel('Steps')\n",
    "    plt.grid()\n",
    "    plt.legend()\n",
    "    \n",
    "    # Plot loss\n",
    "    plt.subplot(3, 1, 3)\n",
    "    plt.plot(metrics['episode_losses'], label = 'episode_losses')\n",
    "    plt.plot(moving_average(metrics['episode_losses']), label = 'moving_average')\n",
    "    plt.title('Training Loss')\n",
    "    plt.xlabel('Episode')\n",
    "    plt.ylabel('Loss')\n",
    "    \n",
    "    plt.grid()\n",
    "    plt.legend()\n",
    "    \n",
    "    plt.tight_layout()\n",
    "    plt.savefig('training_metrics_50000.png')\n",
    "    plt.show()\n"
   ]
  },
  {
   "cell_type": "markdown",
   "metadata": {},
   "source": [
    "### Rendering Routine"
   ]
  },
  {
   "cell_type": "code",
   "execution_count": 54,
   "metadata": {},
   "outputs": [],
   "source": [
    "def render_model(model_path, env_name, num_episodes=3):\n",
    "    # Load model\n",
    "    device = torch.device(\"cuda\" if torch.cuda.is_available() else \"cpu\")\n",
    "    \n",
    "    env = None  # Initialize to None so we can check if it exists in finally block\n",
    "    \n",
    "    try:\n",
    "        # Create environment to get input shape\n",
    "        env = gym.make(env_name)\n",
    "        env = ResizeObservationWrapper(env, size=(64, 64))\n",
    "        env = LogOnlyWrapper(env)\n",
    "        env = AlwaysAttackWrapper(env, angle=10)\n",
    "        \n",
    "        observation = env.reset()\n",
    "        pov = preprocess_observation(observation)\n",
    "        input_shape = pov.shape\n",
    "        n_actions = 8\n",
    "        \n",
    "        # Create and load model\n",
    "        model = DQN(input_shape, n_actions).to(device)\n",
    "        model.load_state_dict(torch.load(model_path, map_location=device))\n",
    "        model.eval()\n",
    "        \n",
    "        # Evaluate with rendering\n",
    "        print(\"Rendering model predictions...\")\n",
    "        \n",
    "        # Custom evaluation loop to ensure proper cleanup\n",
    "        for episode in range(num_episodes):\n",
    "            observation = env.reset()\n",
    "            state = preprocess_observation(observation)\n",
    "            \n",
    "            total_reward = 0\n",
    "            step_count = 0\n",
    "            done = False\n",
    "            \n",
    "            while not done:\n",
    "                try:\n",
    "                    # Render the environment\n",
    "                    env.render()\n",
    "                    time.sleep(0.05)  # Slow down rendering\n",
    "                    \n",
    "                    # Select action (no exploration during evaluation)\n",
    "                    with torch.no_grad():\n",
    "                        state_tensor = torch.FloatTensor(state).unsqueeze(0).to(device)\n",
    "                        q_values = model(state_tensor)\n",
    "                        action_idx = q_values.max(1)[1].item()\n",
    "                    \n",
    "                    # Take action\n",
    "                    observation, reward, done, _ = env.step(action_idx)\n",
    "                    \n",
    "                    # Update metrics\n",
    "                    total_reward += reward\n",
    "                    step_count += 1\n",
    "                    \n",
    "                    # Move to next state\n",
    "                    if not done:\n",
    "                        state = preprocess_observation(observation)\n",
    "                    \n",
    "                    # Limit episode length\n",
    "                    if step_count >= 1000:\n",
    "                        break\n",
    "                        \n",
    "                except KeyboardInterrupt:\n",
    "                    print(\"\\nRendering interrupted by user.\")\n",
    "                    return\n",
    "                except Exception as e:\n",
    "                    print(f\"Error during rendering: {e}\")\n",
    "                    return\n",
    "            \n",
    "            print(f\"Episode {episode+1}: Reward = {total_reward}, Steps = {step_count}\")\n",
    "            \n",
    "    except KeyboardInterrupt:\n",
    "        print(\"\\nRendering interrupted by user.\")\n",
    "    except Exception as e:\n",
    "        print(f\"Error during initialization: {e}\")\n",
    "    finally:\n",
    "        # Always clean up the environment\n",
    "        if env is not None:\n",
    "            try:\n",
    "                print(\"Closing environment...\")\n",
    "                env.close()\n",
    "                \n",
    "                # Additional cleanup to ensure Java processes are terminated\n",
    "                import os\n",
    "                import signal\n",
    "                import subprocess\n",
    "                \n",
    "                # Try to find and kill Minecraft/Java processes\n",
    "                try:\n",
    "                    processes = subprocess.check_output([\"pgrep\", \"-f\", \"Minecraft\"])\n",
    "                    for pid in processes.splitlines():\n",
    "                        try:\n",
    "                            os.kill(int(pid), signal.SIGTERM)\n",
    "                            print(f\"Terminated Minecraft process: {pid}\")\n",
    "                        except:\n",
    "                            pass\n",
    "                except:\n",
    "                    pass\n",
    "                \n",
    "                print(\"Environment closed successfully.\")\n",
    "            except Exception as cleanup_error:\n",
    "                print(f\"Error during cleanup: {cleanup_error}\")\n"
   ]
  },
  {
   "cell_type": "markdown",
   "metadata": {},
   "source": [
    "### Plot Evaluation Metrics"
   ]
  },
  {
   "cell_type": "code",
   "execution_count": 46,
   "metadata": {},
   "outputs": [],
   "source": [
    "def plot_training_metrics(metrics):\n",
    "    plt.figure(figsize=(15, 12))\n",
    "    \n",
    "    # Plot reward\n",
    "    plt.subplot(2, 1, 1)\n",
    "    plt.plot(metrics['episode_rewards'], label = 'episode_rewards')\n",
    "    plt.plot(moving_average(metrics['episode_rewards']), label = 'moving_average')\n",
    "    plt.title('Episode Reward')\n",
    "    plt.xlabel('Episode')\n",
    "    plt.ylabel('Reward')\n",
    "    plt.grid()\n",
    "    plt.legend()\n",
    "    \n",
    "    # Plot episode duration\n",
    "    plt.subplot(2, 1, 2)\n",
    "    plt.plot(metrics['episode_durations'], label = 'episode_durations')\n",
    "    plt.plot(moving_average(metrics['episode_durations']), label = 'moving_average')\n",
    "    plt.title('Episode Duration')\n",
    "    plt.xlabel('Episode')\n",
    "    plt.ylabel('Steps')\n",
    "    plt.grid()\n",
    "    plt.legend()\n",
    "    \n",
    "    \n",
    "    plt.tight_layout()\n",
    "    plt.savefig('evaluation_metrics_50000.png')\n",
    "    plt.show()"
   ]
  },
  {
   "cell_type": "markdown",
   "metadata": {},
   "source": [
    "### RUN"
   ]
  },
  {
   "cell_type": "code",
   "execution_count": null,
   "metadata": {},
   "outputs": [],
   "source": [
    "# Configuration\n",
    "ENV_NAME = \"MineRLObtainDiamondShovel-v0\"\n",
    "TOTAL_TIMESTEPS = 50_000  # Reduced for faster completion\n",
    "\n",
    "\n",
    "# Train the model\n",
    "training_metrics = train_dqn_demo(\n",
    "    env_name=ENV_NAME,\n",
    "    total_timesteps=TOTAL_TIMESTEPS,\n",
    "    batch_size=32,\n",
    "    gamma=0.99,\n",
    "    eps_start=1.0,\n",
    "    eps_end=0.1,\n",
    "    eps_decay=0.9995,\n",
    "    target_update_freq=1000,\n",
    "    learning_rate=0.0001,\n",
    "    memory_size=5000,\n",
    "    eval_freq = 12500,\n",
    "    log_freq = 500\n",
    ")\n",
    "\n"
   ]
  },
  {
   "cell_type": "markdown",
   "metadata": {},
   "source": [
    "### Continue Retrain from the last checkpoint if environment crashed for some reason"
   ]
  },
  {
   "cell_type": "code",
   "execution_count": 25,
   "metadata": {},
   "outputs": [],
   "source": [
    "\n",
    "def resume_training_from_checkpoint(checkpoint_path, env_name, remaining_timesteps, **kwargs):\n",
    "    \"\"\"Resume training from a saved checkpoint\"\"\"\n",
    "    # Load the checkpoint\n",
    "    checkpoint = torch.load(checkpoint_path)\n",
    "    \n",
    "    # Create environment with the same wrappers\n",
    "    env = gym.make(env_name)\n",
    "    env = ResizeObservationWrapper(env, size=(64, 64))\n",
    "    env = LogOnlyWrapper(env)\n",
    "    env = AlwaysAttackWrapper(env, angle=kwargs.get('angle', 10))\n",
    "    \n",
    "    # Get shapes and action space size\n",
    "    observation = env.reset()\n",
    "    pov = preprocess_observation(observation)\n",
    "    input_shape = pov.shape\n",
    "    n_actions = env.action_space.n\n",
    "    \n",
    "    # Setup device\n",
    "    device = torch.device(\"cuda\" if torch.cuda.is_available() else \"cpu\")\n",
    "    print(f\"Using device: {device}\")\n",
    "    \n",
    "    # Initialize networks\n",
    "    policy_net = DQN(input_shape, n_actions).to(device)\n",
    "    target_net = DQN(input_shape, n_actions).to(device)\n",
    "    \n",
    "    # Load the saved model state\n",
    "    policy_net.load_state_dict(checkpoint)\n",
    "    target_net.load_state_dict(checkpoint)\n",
    "    \n",
    "    # Setup optimizer\n",
    "    optimizer = optim.Adam(policy_net.parameters(), lr=kwargs.get('learning_rate', 0.0001))\n",
    "    \n",
    "    # Resume training\n",
    "    start_timestep = 37500  # The checkpoint timestep\n",
    "    print(f\"Resuming training from step {start_timestep}\")\n",
    "    \n",
    "    # Call training function with the loaded model\n",
    "    training_metrics = train_dqn_demo(\n",
    "        env_name=env_name,\n",
    "        total_timesteps=start_timestep + remaining_timesteps,\n",
    "        batch_size=kwargs.get('batch_size', 32),\n",
    "        gamma=kwargs.get('gamma', 0.99),\n",
    "        eps_start=kwargs.get('eps_end', 0.1),  # Start at a lower epsilon since we're resuming\n",
    "        eps_end=kwargs.get('eps_end', 0.1),\n",
    "        eps_decay=kwargs.get('eps_decay', 0.9995),\n",
    "        target_update_freq=kwargs.get('target_update_freq', 1000),\n",
    "        learning_rate=kwargs.get('learning_rate', 0.0001),\n",
    "        memory_size=kwargs.get('memory_size', 10000),\n",
    "        eval_freq=kwargs.get('eval_freq', 10000),\n",
    "        log_freq=kwargs.get('log_freq', 500),\n",
    "        start_timestep=start_timestep,  # Start from this timestep\n",
    "        policy_net=policy_net,          # Use the loaded policy net\n",
    "        target_net=target_net           # Use the loaded target net\n",
    "    )\n",
    "    \n",
    "    return training_metrics"
   ]
  },
  {
   "cell_type": "code",
   "execution_count": 26,
   "metadata": {},
   "outputs": [
    {
     "name": "stderr",
     "output_type": "stream",
     "text": [
      "/usr/lib/python3.10/runpy.py:126: RuntimeWarning: 'minerl.utils.process_watcher' found in sys.modules after import of package 'minerl.utils', but prior to execution of 'minerl.utils.process_watcher'; this may result in unpredictable behaviour\n",
      "  warn(RuntimeWarning(msg))\n"
     ]
    },
    {
     "name": "stdout",
     "output_type": "stream",
     "text": [
      "Using device: cuda\n",
      "Resuming training from step 37500\n",
      "Using device: cuda\n"
     ]
    },
    {
     "name": "stderr",
     "output_type": "stream",
     "text": [
      "/usr/lib/python3.10/runpy.py:126: RuntimeWarning: 'minerl.utils.process_watcher' found in sys.modules after import of package 'minerl.utils', but prior to execution of 'minerl.utils.process_watcher'; this may result in unpredictable behaviour\n",
      "  warn(RuntimeWarning(msg))\n"
     ]
    },
    {
     "name": "stdout",
     "output_type": "stream",
     "text": [
      "Observation shape: (3, 64, 64), Action space size: 8\n",
      "Starting training...\n"
     ]
    },
    {
     "name": "stderr",
     "output_type": "stream",
     "text": [
      " 75%|███████▌  | 37531/50000 [00:05<27:32,  7.55it/s]  /tmp/ipykernel_1651/2599215531.py:13: UserWarning: Creating a tensor from a list of numpy.ndarrays is extremely slow. Please consider converting the list to a single numpy.ndarray with numpy.array() before converting to a tensor. (Triggered internally at /pytorch/torch/csrc/utils/tensor_new.cpp:254.)\n",
      "  non_final_next_states = torch.tensor([s for s in batch.next_state if s is not None],\n",
      " 76%|███████▌  | 38001/50000 [01:27<39:16,  5.09it/s]  "
     ]
    },
    {
     "name": "stdout",
     "output_type": "stream",
     "text": [
      "Target network updated!\n",
      "\n",
      "Timestep: 38000/50000 (76.0%) | Episodes: 0 | Epsilon: 0.1000 | Avg Reward: 0.0000 | Avg Duration: 0.0 steps | Avg Loss: 0.000000 | Elapsed: 87.5s\n"
     ]
    },
    {
     "name": "stderr",
     "output_type": "stream",
     "text": [
      " 77%|███████▋  | 38500/50000 [02:53<29:02,  6.60it/s]  "
     ]
    },
    {
     "name": "stdout",
     "output_type": "stream",
     "text": [
      "\n",
      "Timestep: 38500/50000 (77.0%) | Episodes: 0 | Epsilon: 0.1000 | Avg Reward: 0.0000 | Avg Duration: 0.0 steps | Avg Loss: 0.000000 | Elapsed: 174.0s\n"
     ]
    },
    {
     "name": "stderr",
     "output_type": "stream",
     "text": [
      " 78%|███████▊  | 39001/50000 [04:37<31:32,  5.81it/s]   "
     ]
    },
    {
     "name": "stdout",
     "output_type": "stream",
     "text": [
      "Target network updated!\n",
      "\n",
      "Timestep: 39000/50000 (78.0%) | Episodes: 1 | Epsilon: 0.1000 | Avg Reward: 0.0000 | Avg Duration: 1000.0 steps | Avg Loss: 0.000372 | Elapsed: 277.0s\n"
     ]
    },
    {
     "name": "stderr",
     "output_type": "stream",
     "text": [
      " 79%|███████▉  | 39500/50000 [06:10<26:30,  6.60it/s]  "
     ]
    },
    {
     "name": "stdout",
     "output_type": "stream",
     "text": [
      "\n",
      "Timestep: 39500/50000 (79.0%) | Episodes: 1 | Epsilon: 0.1000 | Avg Reward: 0.0000 | Avg Duration: 1000.0 steps | Avg Loss: 0.000372 | Elapsed: 370.1s\n"
     ]
    },
    {
     "name": "stderr",
     "output_type": "stream",
     "text": [
      "/usr/lib/python3.10/runpy.py:126: RuntimeWarning: 'minerl.utils.process_watcher' found in sys.modules after import of package 'minerl.utils', but prior to execution of 'minerl.utils.process_watcher'; this may result in unpredictable behaviour\n",
      "  warn(RuntimeWarning(msg))\n",
      " 80%|████████  | 40000/50000 [08:33<28:57,  5.76it/s]   "
     ]
    },
    {
     "name": "stdout",
     "output_type": "stream",
     "text": [
      "Target network updated!\n",
      "\n",
      "Timestep: 40000/50000 (80.0%) | Episodes: 2 | Epsilon: 0.1000 | Avg Reward: 0.0000 | Avg Duration: 1000.0 steps | Avg Loss: 0.000476 | Elapsed: 513.7s\n",
      "\n",
      "Evaluating model...\n",
      "Checkpoint saved to checkpoint_minerl/dqn_minerl_checkpoint_40000.pt\n"
     ]
    },
    {
     "name": "stderr",
     "output_type": "stream",
     "text": [
      " 81%|████████  | 40500/50000 [09:55<24:58,  6.34it/s]"
     ]
    },
    {
     "name": "stdout",
     "output_type": "stream",
     "text": [
      "\n",
      "Timestep: 40500/50000 (81.0%) | Episodes: 2 | Epsilon: 0.1000 | Avg Reward: 0.0000 | Avg Duration: 1000.0 steps | Avg Loss: 0.000476 | Elapsed: 595.9s\n"
     ]
    },
    {
     "name": "stderr",
     "output_type": "stream",
     "text": [
      " 82%|████████▏ | 41001/50000 [11:51<30:14,  4.96it/s]   "
     ]
    },
    {
     "name": "stdout",
     "output_type": "stream",
     "text": [
      "Target network updated!\n",
      "\n",
      "Timestep: 41000/50000 (82.0%) | Episodes: 3 | Epsilon: 0.1000 | Avg Reward: 0.0000 | Avg Duration: 1000.0 steps | Avg Loss: 0.000466 | Elapsed: 711.5s\n"
     ]
    },
    {
     "name": "stderr",
     "output_type": "stream",
     "text": [
      " 83%|████████▎ | 41500/50000 [13:09<22:27,  6.31it/s]"
     ]
    },
    {
     "name": "stdout",
     "output_type": "stream",
     "text": [
      "\n",
      "Timestep: 41500/50000 (83.0%) | Episodes: 3 | Epsilon: 0.1000 | Avg Reward: 0.0000 | Avg Duration: 1000.0 steps | Avg Loss: 0.000466 | Elapsed: 789.9s\n"
     ]
    },
    {
     "name": "stderr",
     "output_type": "stream",
     "text": [
      "/usr/lib/python3.10/runpy.py:126: RuntimeWarning: 'minerl.utils.process_watcher' found in sys.modules after import of package 'minerl.utils', but prior to execution of 'minerl.utils.process_watcher'; this may result in unpredictable behaviour\n",
      "  warn(RuntimeWarning(msg))\n",
      " 84%|████████▍ | 42001/50000 [15:26<25:14,  5.28it/s]   "
     ]
    },
    {
     "name": "stdout",
     "output_type": "stream",
     "text": [
      "Target network updated!\n",
      "\n",
      "Timestep: 42000/50000 (84.0%) | Episodes: 4 | Epsilon: 0.1000 | Avg Reward: 0.0000 | Avg Duration: 1000.0 steps | Avg Loss: 0.000468 | Elapsed: 926.7s\n"
     ]
    },
    {
     "name": "stderr",
     "output_type": "stream",
     "text": [
      " 85%|████████▌ | 42500/50000 [16:51<20:43,  6.03it/s]"
     ]
    },
    {
     "name": "stdout",
     "output_type": "stream",
     "text": [
      "\n",
      "Timestep: 42500/50000 (85.0%) | Episodes: 4 | Epsilon: 0.1000 | Avg Reward: 0.0000 | Avg Duration: 1000.0 steps | Avg Loss: 0.000468 | Elapsed: 1011.4s\n"
     ]
    },
    {
     "name": "stderr",
     "output_type": "stream",
     "text": [
      " 86%|████████▌ | 43000/50000 [19:01<30:30,  3.82it/s]   "
     ]
    },
    {
     "name": "stdout",
     "output_type": "stream",
     "text": [
      "Target network updated!\n",
      "\n",
      "Timestep: 43000/50000 (86.0%) | Episodes: 5 | Epsilon: 0.1000 | Avg Reward: 0.0000 | Avg Duration: 1000.0 steps | Avg Loss: 0.000461 | Elapsed: 1141.1s\n"
     ]
    },
    {
     "name": "stderr",
     "output_type": "stream",
     "text": [
      " 87%|████████▋ | 43500/50000 [20:50<24:34,  4.41it/s]"
     ]
    },
    {
     "name": "stdout",
     "output_type": "stream",
     "text": [
      "\n",
      "Timestep: 43500/50000 (87.0%) | Episodes: 5 | Epsilon: 0.1000 | Avg Reward: 0.0000 | Avg Duration: 1000.0 steps | Avg Loss: 0.000461 | Elapsed: 1250.2s\n"
     ]
    },
    {
     "name": "stderr",
     "output_type": "stream",
     "text": [
      "/usr/lib/python3.10/runpy.py:126: RuntimeWarning: 'minerl.utils.process_watcher' found in sys.modules after import of package 'minerl.utils', but prior to execution of 'minerl.utils.process_watcher'; this may result in unpredictable behaviour\n",
      "  warn(RuntimeWarning(msg))\n",
      " 88%|████████▊ | 44001/50000 [23:39<22:13,  4.50it/s]   "
     ]
    },
    {
     "name": "stdout",
     "output_type": "stream",
     "text": [
      "Target network updated!\n",
      "\n",
      "Timestep: 44000/50000 (88.0%) | Episodes: 6 | Epsilon: 0.1000 | Avg Reward: 0.0000 | Avg Duration: 1000.0 steps | Avg Loss: 0.000440 | Elapsed: 1419.6s\n"
     ]
    },
    {
     "name": "stderr",
     "output_type": "stream",
     "text": [
      " 89%|████████▉ | 44500/50000 [25:11<15:55,  5.75it/s]"
     ]
    },
    {
     "name": "stdout",
     "output_type": "stream",
     "text": [
      "\n",
      "Timestep: 44500/50000 (89.0%) | Episodes: 6 | Epsilon: 0.1000 | Avg Reward: 0.0000 | Avg Duration: 1000.0 steps | Avg Loss: 0.000440 | Elapsed: 1511.4s\n"
     ]
    },
    {
     "name": "stderr",
     "output_type": "stream",
     "text": [
      " 90%|█████████ | 45000/50000 [27:07<22:16,  3.74it/s]   "
     ]
    },
    {
     "name": "stdout",
     "output_type": "stream",
     "text": [
      "Target network updated!\n",
      "\n",
      "Timestep: 45000/50000 (90.0%) | Episodes: 7 | Epsilon: 0.1000 | Avg Reward: 0.0000 | Avg Duration: 1000.0 steps | Avg Loss: 0.000431 | Elapsed: 1627.3s\n"
     ]
    },
    {
     "name": "stderr",
     "output_type": "stream",
     "text": [
      " 91%|█████████ | 45500/50000 [28:27<11:53,  6.31it/s]"
     ]
    },
    {
     "name": "stdout",
     "output_type": "stream",
     "text": [
      "\n",
      "Timestep: 45500/50000 (91.0%) | Episodes: 7 | Epsilon: 0.1000 | Avg Reward: 0.0000 | Avg Duration: 1000.0 steps | Avg Loss: 0.000431 | Elapsed: 1707.6s\n"
     ]
    },
    {
     "name": "stderr",
     "output_type": "stream",
     "text": [
      "/usr/lib/python3.10/runpy.py:126: RuntimeWarning: 'minerl.utils.process_watcher' found in sys.modules after import of package 'minerl.utils', but prior to execution of 'minerl.utils.process_watcher'; this may result in unpredictable behaviour\n",
      "  warn(RuntimeWarning(msg))\n",
      " 92%|█████████▏| 46000/50000 [31:05<18:29,  3.60it/s]   "
     ]
    },
    {
     "name": "stdout",
     "output_type": "stream",
     "text": [
      "Target network updated!\n",
      "\n",
      "Timestep: 46000/50000 (92.0%) | Episodes: 8 | Epsilon: 0.1000 | Avg Reward: 0.1250 | Avg Duration: 1000.0 steps | Avg Loss: 0.000440 | Elapsed: 1865.6s\n"
     ]
    },
    {
     "name": "stderr",
     "output_type": "stream",
     "text": [
      " 93%|█████████▎| 46500/50000 [32:42<09:37,  6.06it/s]"
     ]
    },
    {
     "name": "stdout",
     "output_type": "stream",
     "text": [
      "\n",
      "Timestep: 46500/50000 (93.0%) | Episodes: 8 | Epsilon: 0.1000 | Avg Reward: 0.1250 | Avg Duration: 1000.0 steps | Avg Loss: 0.000440 | Elapsed: 1962.5s\n"
     ]
    },
    {
     "name": "stderr",
     "output_type": "stream",
     "text": [
      " 94%|█████████▍| 47001/50000 [34:33<10:32,  4.74it/s]  "
     ]
    },
    {
     "name": "stdout",
     "output_type": "stream",
     "text": [
      "Target network updated!\n",
      "\n",
      "Timestep: 47000/50000 (94.0%) | Episodes: 9 | Epsilon: 0.1000 | Avg Reward: 0.1111 | Avg Duration: 1000.0 steps | Avg Loss: 0.000438 | Elapsed: 2073.7s\n"
     ]
    },
    {
     "name": "stderr",
     "output_type": "stream",
     "text": [
      " 95%|█████████▌| 47500/50000 [36:05<06:38,  6.28it/s]"
     ]
    },
    {
     "name": "stdout",
     "output_type": "stream",
     "text": [
      "\n",
      "Timestep: 47500/50000 (95.0%) | Episodes: 9 | Epsilon: 0.1000 | Avg Reward: 0.1111 | Avg Duration: 1000.0 steps | Avg Loss: 0.000438 | Elapsed: 2165.8s\n"
     ]
    },
    {
     "name": "stderr",
     "output_type": "stream",
     "text": [
      "/usr/lib/python3.10/runpy.py:126: RuntimeWarning: 'minerl.utils.process_watcher' found in sys.modules after import of package 'minerl.utils', but prior to execution of 'minerl.utils.process_watcher'; this may result in unpredictable behaviour\n",
      "  warn(RuntimeWarning(msg))\n",
      " 96%|█████████▌| 48001/50000 [38:47<06:05,  5.48it/s]  "
     ]
    },
    {
     "name": "stdout",
     "output_type": "stream",
     "text": [
      "Target network updated!\n",
      "\n",
      "Timestep: 48000/50000 (96.0%) | Episodes: 10 | Epsilon: 0.1000 | Avg Reward: 0.5000 | Avg Duration: 1000.0 steps | Avg Loss: 0.000457 | Elapsed: 2327.6s\n"
     ]
    },
    {
     "name": "stderr",
     "output_type": "stream",
     "text": [
      " 97%|█████████▋| 48500/50000 [40:13<03:38,  6.86it/s]"
     ]
    },
    {
     "name": "stdout",
     "output_type": "stream",
     "text": [
      "\n",
      "Timestep: 48500/50000 (97.0%) | Episodes: 10 | Epsilon: 0.1000 | Avg Reward: 0.5000 | Avg Duration: 1000.0 steps | Avg Loss: 0.000457 | Elapsed: 2413.5s\n"
     ]
    },
    {
     "name": "stderr",
     "output_type": "stream",
     "text": [
      " 98%|█████████▊| 49001/50000 [42:30<03:16,  5.10it/s]  "
     ]
    },
    {
     "name": "stdout",
     "output_type": "stream",
     "text": [
      "Target network updated!\n",
      "\n",
      "Timestep: 49000/50000 (98.0%) | Episodes: 11 | Epsilon: 0.1000 | Avg Reward: 0.6000 | Avg Duration: 1000.0 steps | Avg Loss: 0.000504 | Elapsed: 2550.1s\n"
     ]
    },
    {
     "name": "stderr",
     "output_type": "stream",
     "text": [
      " 99%|█████████▉| 49500/50000 [44:28<01:33,  5.38it/s]"
     ]
    },
    {
     "name": "stdout",
     "output_type": "stream",
     "text": [
      "\n",
      "Timestep: 49500/50000 (99.0%) | Episodes: 11 | Epsilon: 0.1000 | Avg Reward: 0.6000 | Avg Duration: 1000.0 steps | Avg Loss: 0.000504 | Elapsed: 2668.5s\n"
     ]
    },
    {
     "name": "stderr",
     "output_type": "stream",
     "text": [
      "/usr/lib/python3.10/runpy.py:126: RuntimeWarning: 'minerl.utils.process_watcher' found in sys.modules after import of package 'minerl.utils', but prior to execution of 'minerl.utils.process_watcher'; this may result in unpredictable behaviour\n",
      "  warn(RuntimeWarning(msg))\n",
      "100%|██████████| 50000/50000 [47:05<00:00,  4.42it/s]  \n"
     ]
    },
    {
     "name": "stdout",
     "output_type": "stream",
     "text": [
      "Target network updated!\n",
      "\n",
      "Timestep: 50000/50000 (100.0%) | Episodes: 12 | Epsilon: 0.1000 | Avg Reward: 0.6000 | Avg Duration: 1000.0 steps | Avg Loss: 0.000545 | Elapsed: 2825.0s\n",
      "\n",
      "Evaluating model...\n",
      "Checkpoint saved to checkpoint_minerl/dqn_minerl_checkpoint_50000.pt\n",
      "\n",
      "Training complete! Time elapsed: 2828.28 seconds\n",
      "Total episodes completed: 12\n",
      "Final model saved to checkpoint_minerl/dqn_minerl_log_finder.pt\n"
     ]
    }
   ],
   "source": [
    "# Usage\n",
    "remaining_steps = 50000 - 37500  # Calculate remaining steps\n",
    "\n",
    "training_metrics = resume_training_from_checkpoint(\n",
    "    checkpoint_path=\"checkpoint_mineRL/dqn_minerl_checkpoint_37500.pt\",\n",
    "    env_name=\"MineRLObtainDiamondShovel-v0\",\n",
    "    remaining_timesteps=remaining_steps,\n",
    "    angle=10\n",
    ")"
   ]
  },
  {
   "cell_type": "markdown",
   "metadata": {},
   "source": [
    "### Plot Training Metrics"
   ]
  },
  {
   "cell_type": "code",
   "execution_count": 41,
   "metadata": {},
   "outputs": [
    {
     "data": {
      "image/png": "[encoded data removed]",
      "text/plain": [
       "<Figure size 1500x1200 with 3 Axes>"
      ]
     },
     "metadata": {},
     "output_type": "display_data"
    }
   ],
   "source": [
    "# Plot training metrics\n",
    "plot_training_metrics(training_metrics)"
   ]
  },
  {
   "cell_type": "markdown",
   "metadata": {},
   "source": [
    "### Evaluate the Model"
   ]
  },
  {
   "cell_type": "code",
   "execution_count": 44,
   "metadata": {},
   "outputs": [
    {
     "name": "stderr",
     "output_type": "stream",
     "text": [
      "/usr/lib/python3.10/runpy.py:126: RuntimeWarning: 'minerl.utils.process_watcher' found in sys.modules after import of package 'minerl.utils', but prior to execution of 'minerl.utils.process_watcher'; this may result in unpredictable behaviour\n",
      "  warn(RuntimeWarning(msg))\n"
     ]
    },
    {
     "name": "stdout",
     "output_type": "stream",
     "text": [
      "Evaluation Episode 1/5 | Reward: 0.00 | Steps: 1000\n",
      "Evaluation Episode 2/5 | Reward: 0.00 | Steps: 1000\n",
      "Evaluation Episode 3/5 | Reward: 0.00 | Steps: 1000\n",
      "Evaluation Episode 4/5 | Reward: 0.00 | Steps: 1000\n",
      "Evaluation Episode 5/5 | Reward: 0.00 | Steps: 500\n",
      "\n",
      "Evaluation Results:\n",
      "Average Reward: 0.00\n",
      "Average Episode Duration: 900.00 steps\n",
      "Success Rate: 0.00%\n"
     ]
    }
   ],
   "source": [
    "# Evaluate the model\n",
    "policy_net = training_metrics['policy_net']\n",
    "eval_metrics = evaluate_model(policy_net, ENV_NAME, num_episodes=5)"
   ]
  },
  {
   "cell_type": "markdown",
   "metadata": {},
   "source": [
    "Plot Evaluation Metrics"
   ]
  },
  {
   "cell_type": "code",
   "execution_count": 47,
   "metadata": {},
   "outputs": [
    {
     "data": {
      "image/png": "[encoded data removed]",
      "text/plain": [
       "<Figure size 1500x1200 with 2 Axes>"
      ]
     },
     "metadata": {},
     "output_type": "display_data"
    }
   ],
   "source": [
    "plot_training_metrics(eval_metrics)"
   ]
  },
  {
   "cell_type": "markdown",
   "metadata": {},
   "source": [
    "### Render"
   ]
  },
  {
   "cell_type": "code",
   "execution_count": 55,
   "metadata": {},
   "outputs": [
    {
     "name": "stderr",
     "output_type": "stream",
     "text": [
      "/usr/lib/python3.10/runpy.py:126: RuntimeWarning: 'minerl.utils.process_watcher' found in sys.modules after import of package 'minerl.utils', but prior to execution of 'minerl.utils.process_watcher'; this may result in unpredictable behaviour\n",
      "  warn(RuntimeWarning(msg))\n"
     ]
    },
    {
     "name": "stdout",
     "output_type": "stream",
     "text": [
      "Rendering model predictions...\n",
      "Episode 1: Reward = 0.0, Steps = 1000\n",
      "Episode 2: Reward = 0.0, Steps = 1000\n",
      "Episode 3: Reward = 0.0, Steps = 1000\n",
      "Closing environment...\n",
      "Environment closed successfully.\n"
     ]
    }
   ],
   "source": [
    "# Render model (uncomment to see visual results)\n",
    "render_model(\"checkpoint_mineRL/dqn_minerl_log_finder.pt\", ENV_NAME, num_episodes=3)"
   ]
  }
 ],
 "metadata": {
  "kernelspec": {
   "display_name": "Python 3",
   "language": "python",
   "name": "python3"
  },
  "language_info": {
   "codemirror_mode": {
    "name": "ipython",
    "version": 3
   },
   "file_extension": ".py",
   "mimetype": "text/x-python",
   "name": "python",
   "nbconvert_exporter": "python",
   "pygments_lexer": "ipython3",
   "version": "3.10.12"
  }
 },
 "nbformat": 4,
 "nbformat_minor": 2
}
